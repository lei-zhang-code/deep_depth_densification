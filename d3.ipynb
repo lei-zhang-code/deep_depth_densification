{
 "cells": [
  {
   "cell_type": "markdown",
   "metadata": {},
   "source": [
    "# Deep Depth Densification (D3)"
   ]
  },
  {
   "cell_type": "code",
   "execution_count": 1,
   "metadata": {},
   "outputs": [],
   "source": [
    "import tensorflow as tf\n",
    "import numpy as np"
   ]
  },
  {
   "cell_type": "markdown",
   "metadata": {},
   "source": [
    "## Dataset"
   ]
  },
  {
   "cell_type": "code",
   "execution_count": null,
   "metadata": {},
   "outputs": [],
   "source": []
  },
  {
   "cell_type": "markdown",
   "metadata": {},
   "source": [
    "## Input depth sampling"
   ]
  },
  {
   "cell_type": "code",
   "execution_count": 9,
   "metadata": {},
   "outputs": [],
   "source": [
    "# I assume an input RGB image\n",
    "w, h = 640, 480\n",
    "\n",
    "# raw images\n",
    "I = None  # RGB image\n",
    "D = None  # ground truth depth map. invalid pixels are zero.\n",
    "M = None  # mask image, sensor sparse depth location\n",
    "\n",
    "# preprocessed input images\n",
    "S1 = None  # sparse depth map\n",
    "S2 = None  # distance transform\n",
    "\n",
    "\n",
    "def euclidean_traversal(image, pixel, cond):\n",
    "    \"\"\"Traversal image to find the closest pixel from starting point that satisfy a condition.\n",
    "    The search always starts at the next closest (in Hamming distance) in the NE, SE, NW, SW directions.\n",
    "    And search along the four edges of a diamond.\n",
    "    \n",
    "    image: numpy array\n",
    "    pixel: (x, y) tuple\n",
    "    cond: a function that operates on image(x, y) and returns True or False\n",
    "    \"\"\"\n",
    "    if not isinstance(image, np.ndarray):\n",
    "        raise RuntimeError(\"D3::euclidean_traversal::image is not a numpy array.\")\n",
    "    if len(pixel) != 2:\n",
    "        raise RuntimeError(\"D3::euclidean_traversal::pixel is not a 2 element list or tuple.\")\n",
    "    w, h = image.shape[0], image.shape[1]\n",
    "    max_d_ham = max([pixel[0] + pixel[1], w - pixel[0] - 1 + pixel[1],\n",
    "                    pixel[0] + h - pixel[1] - 1, w - pixel[0] + h - pixel[1] - 2])\n",
    "    d_ham = 1  # hamming distance\n",
    "    while d_ham <= max_d_ham:\n",
    "        diff = 0.5 if d_ham % 2 == 1 else 0.0\n",
    "        while diff < d_ham / 2 + 0.1:  # search along the edge of the diamond, starting from center of the edge\n",
    "            for radx, rady in [(1, 1), (1, -1), (-1, 1), (-1, -1)]:  # the diamond has four edges\n",
    "                for tanx in [1, -1]:  # symmetrically search in both directions\n",
    "                    tany = - tanx * radx / rady\n",
    "                    x = pixel[0] + round((d_ham / 2) * radx + diff * tanx)\n",
    "                    y = pixel[1] + round((d_ham / 2) * rady + diff * tany)\n",
    "                    if x >= 0 and x < w and y >= 0 and y < h and cond(image[x, y]):\n",
    "                        return (x, y)\n",
    "            diff += 1.0\n",
    "        d_ham += 1\n",
    "    return (-1, -1)\n",
    "\n",
    "\n",
    "def correct_depth_and_sampling_maps(D, M):\n",
    "    \"\"\"For any pixel p in D and M, if D(p) == 0 and M(p) == 1, then find the nearest pixel p' and assign\n",
    "    M(p) = 0 and M(p') = 1.\n",
    "    \"\"\"\n",
    "    if M.shape != D.shape:\n",
    "        raise RuntimeError(\"D3::correct_depth_and_sampling_maps::sampling map dimension does not map depth map.\")\n",
    "    h, w = M.shape\n",
    "    for r in range(h):\n",
    "        for c in range(w):\n",
    "            if M[r, c] == 1 and D[r, c] == 0:\n",
    "                p = euclidean_traversal(D, (r, c), lambda x : x > 0)\n",
    "                if p == (-1, -1):\n",
    "                    raise RuntimeError(\"D3::correct_depth_and_sampling_maps::failed to find nearest valid depth.\")\n",
    "                M[r, c] = 0\n",
    "                M[p[0], p[1]] = 1\n",
    "\n",
    "\n",
    "from collections import deque\n",
    "\n",
    "def euclidean_distance_transform(M):\n",
    "    \"\"\"Assumes that M is an mask image where M(x, y) == 1 means a point of interest, M(x, y) == 0 otherwise.\n",
    "    This is a multi-entry Breadth-First-Search (BSF) algo.\n",
    "    \n",
    "    Return:\n",
    "        dist: distance map\n",
    "        \n",
    "        orig: the nearest pixel map\n",
    "    \"\"\"\n",
    "    h, w = M.shape[0], M.shape[1]\n",
    "    orig = np.ones((h, w, 2)) * (-1)  # the closest interest point.\n",
    "    nexts = deque()\n",
    "    for r in range(h):\n",
    "        for c in range(w):\n",
    "            if M[r, c] == 1:\n",
    "                nexts.append(([r, c], [r, c]))  # next pixel and its potential nearest neighbor\n",
    "    while len(nexts) > 0:\n",
    "        n = nexts[0]\n",
    "        r, c = n[0]\n",
    "        r0, c0 = n[1]\n",
    "        r1, c1 = orig[r, c]\n",
    "        if [r1, c1] == [-1, -1] or np.linalg.norm([r - r1, c - c1]) > np.linalg.norm([r - r0, c - c0]):\n",
    "            orig[r, c] = [r0, c0]\n",
    "            dirs = [(0, 1), (1, 0), (-1, 0), (0, -1)]\n",
    "            for d in dirs:\n",
    "                rn, cn = r + d[0], c + d[1]\n",
    "                if rn >= 0 and rn < h and cn >= 0 and cn < w and np.any(orig[rn, cn] != [r0, c0]):\n",
    "                    nexts.append(([rn, cn], [r0, c0]))\n",
    "        nexts.popleft()\n",
    "    dist = np.zeros((h, w))\n",
    "    for r in range(h):\n",
    "        for c in range(w):\n",
    "            r0, c0 = orig[r, c]\n",
    "            dist[r, c] = np.linalg.norm([r - r0, c - c0])\n",
    "    return dist, orig\n",
    "                    \n",
    "    \n",
    "def compute_nearest_neighbor_depth(M, D):\n",
    "    \"\"\"Generate a depth map that has the same dimension as the input depth map D. Each pixel in the depth map\n",
    "    contains the depth of the nearest valid point in the sampling map M. M(x, y) == 1 means a pixel to sample.\n",
    "    \n",
    "    Note: this function assumes all D's pixels are valid, i.e. has positive depth values.\n",
    "    \"\"\"\n",
    "    if M.shape != D.shape:\n",
    "        raise RuntimeError(\"D3::compute_nearest_neighbor_depth::sampling map dimension does not map depth map.\")\n",
    "    h, w = M.shape[0], M.shape[1]\n",
    "    # get the nearest pixel map 'orig'\n",
    "    d, orig = euclidean_distance_transform(M)\n",
    "    dmap = np.zeros((h, w))\n",
    "    for r in range(h):\n",
    "        for c in range(w):\n",
    "            r0, c0 = orig[r, c]\n",
    "            dmap[r, c] = D[r0, c0]\n",
    "    return dmap\n",
    "\n",
    "\n",
    "def preprocess(I, D, M):\n",
    "    h, w = I.shape[0], I.shape[1]\n",
    "    if I.shape[2] != 3 or D.shape != (h, w) or M.shape != (h, w):\n",
    "        raise RuntimeError(\"D3::preprocess::Raw input images have wrong shapes.\")\n",
    "    correct_depth_and_sampling_maps(D, M)\n",
    "    S1 = compute_nearest_neighbor_depth(M, D)\n",
    "    S2 = euclidean_distance_transform(M)\n",
    "    return np.dstack([S1, S2])\n",
    "\n"
   ]
  },
  {
   "cell_type": "code",
   "execution_count": 5,
   "metadata": {},
   "outputs": [],
   "source": [
    "M = np.zeros((20, 20))\n",
    "for r in range(0, 20, 4):\n",
    "    for c in range(0, 20, 4):\n",
    "        M[r, c] = 1\n",
    "d, _ = euclidean_distance_transform(M)"
   ]
  },
  {
   "cell_type": "code",
   "execution_count": 6,
   "metadata": {},
   "outputs": [
    {
     "data": {
      "text/plain": [
       "<matplotlib.image.AxesImage at 0x7fe3a71b6dd8>"
      ]
     },
     "execution_count": 6,
     "metadata": {},
     "output_type": "execute_result"
    },
    {
     "data": {
      "image/png": "[encoded data removed]",
      "text/plain": [
       "<Figure size 432x288 with 1 Axes>"
      ]
     },
     "metadata": {},
     "output_type": "display_data"
    }
   ],
   "source": [
    "import matplotlib.pyplot as plt\n",
    "%matplotlib inline\n",
    "\n",
    "plt.imshow(d)"
   ]
  },
  {
   "cell_type": "code",
   "execution_count": 10,
   "metadata": {},
   "outputs": [
    {
     "name": "stdout",
     "output_type": "stream",
     "text": [
      "[[ 1.  1.  1.  1.  1.]\n",
      " [ 1.  1.  1.  0.  1.]\n",
      " [ 1.  1.  0.  0.  0.]\n",
      " [ 1.  1.  1.  0.  1.]\n",
      " [ 1.  1.  1.  1.  1.]\n",
      " [ 1.  1.  1.  1.  1.]]\n",
      "[[ 0.  0.  0.  0.  0.]\n",
      " [ 0.  0.  0.  0.  0.]\n",
      " [ 0.  0.  0.  1.  0.]\n",
      " [ 0.  0.  0.  0.  0.]\n",
      " [ 0.  0.  0.  0.  0.]\n",
      " [ 0.  0.  0.  0.  0.]]\n",
      "[[ 1.  1.  1.  1.  1.]\n",
      " [ 1.  1.  1.  0.  1.]\n",
      " [ 1.  1.  0.  0.  0.]\n",
      " [ 1.  1.  1.  0.  1.]\n",
      " [ 1.  1.  1.  1.  1.]\n",
      " [ 1.  1.  1.  1.  1.]]\n",
      "[[ 0.  0.  0.  0.  0.]\n",
      " [ 0.  0.  0.  0.  0.]\n",
      " [ 0.  0.  0.  0.  0.]\n",
      " [ 0.  0.  0.  0.  1.]\n",
      " [ 0.  0.  0.  0.  0.]\n",
      " [ 0.  0.  0.  0.  0.]]\n"
     ]
    }
   ],
   "source": [
    "D = np.ones((6, 5))\n",
    "M = np.zeros((6, 5))\n",
    "D[2, 3] = 0\n",
    "D[2, 4] = 0\n",
    "D[3, 3] = 0\n",
    "D[1, 3] = 0\n",
    "D[2, 2] = 0\n",
    "M[2, 3] = 1\n",
    "\n",
    "print(D)\n",
    "print(M)\n",
    "correct_depth_and_sampling_maps(D, M)\n",
    "print(D)\n",
    "print(M)"
   ]
  },
  {
   "cell_type": "code",
   "execution_count": null,
   "metadata": {},
   "outputs": [],
   "source": []
  }
 ],
 "metadata": {
  "kernelspec": {
   "display_name": "Python 3",
   "language": "python",
   "name": "python3"
  },
  "language_info": {
   "codemirror_mode": {
    "name": "ipython",
    "version": 3
   },
   "file_extension": ".py",
   "mimetype": "text/x-python",
   "name": "python",
   "nbconvert_exporter": "python",
   "pygments_lexer": "ipython3",
   "version": "3.6.5"
  }
 },
 "nbformat": 4,
 "nbformat_minor": 2
}
